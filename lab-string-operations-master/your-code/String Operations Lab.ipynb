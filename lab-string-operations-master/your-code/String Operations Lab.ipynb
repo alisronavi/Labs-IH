{
 "cells": [
  {
   "cell_type": "markdown",
   "id": "59ba36e1",
   "metadata": {},
   "source": [
    "Before your start:\n",
    "\n",
    "Read the README.md file\n",
    "Comment as much as you can and use the resources in the README.md file\n",
    "Happy learning!"
   ]
  },
  {
   "cell_type": "code",
   "execution_count": 1,
   "id": "af4bd003",
   "metadata": {},
   "outputs": [],
   "source": [
    "import re"
   ]
  },
  {
   "cell_type": "markdown",
   "id": "15f6c4fa",
   "metadata": {},
   "source": [
    "Challenge 1 - Combining Strings\n",
    "Combining strings is an important skill to acquire. There are multiple ways of combining strings in Python, as well as combining strings with variables. We will explore this in the first challenge. In the cell below, combine the strings in the list and add spaces between the strings (do not add a space after the last string). Insert a period after the last string."
   ]
  },
  {
   "cell_type": "code",
   "execution_count": 12,
   "id": "0d1c8e89",
   "metadata": {},
   "outputs": [
    {
     "name": "stdout",
     "output_type": "stream",
     "text": [
      "Durante un tiempo no estuvo segura de si su marido era su marido.\n"
     ]
    }
   ],
   "source": [
    "str_list = ['Durante', 'un', 'tiempo', 'no', 'estuvo', 'segura', 'de', 'si', 'su', 'marido', 'era', 'su', 'marido']\n",
    "# Your code here:\n",
    "#stringscombinados =' '.join(str_list)\n",
    "print(\"{}.\".format(\" \".join(str_list)))"
   ]
  },
  {
   "cell_type": "markdown",
   "id": "907a099f",
   "metadata": {},
   "source": [
    "In the cell below, use the list of strings to create a grocery list. Start the list with the string Grocery list: and include a comma and a space between each item except for the last one. Include a period at the end. Only include foods in the list that start with the letter 'b' and ensure all foods are lower case."
   ]
  },
  {
   "cell_type": "code",
   "execution_count": 18,
   "id": "5d999cb5",
   "metadata": {},
   "outputs": [
    {
     "name": "stdout",
     "output_type": "stream",
     "text": [
      "bananas, bread, brownie mix, broccoli.\n"
     ]
    }
   ],
   "source": [
    "food_list = ['Bananas', 'Chocolate', 'bread', 'diapers', 'Ice Cream', 'Brownie Mix', 'broccoli']\n",
    "# Your code here:\n",
    "#Iniciar la lista como Grocery_list               .format(str_list)\n",
    "#Incluir coma                                     .join(str_list)\n",
    "#Añadir espacio entre cada objeto                 \" \"\n",
    "#Solo inlcuir la comida que empiece con b         if B\n",
    "#Asegurar que todo este en minusculas             .lower\n",
    "#Grocery_list =\n",
    "    \n",
    "print(\"{}.\".format(\", \".join(palabra.lower()for palabra in food_list if palabra.lower().startswith('b'))))"
   ]
  },
  {
   "cell_type": "markdown",
   "id": "c0bbb58c",
   "metadata": {},
   "source": [
    "In the cell below, write a function that computes the area of a circle using its radius. Compute the area of the circle and insert the radius and the area between the two strings. Make sure to include spaces between the variable and the strings.\n",
    "\n",
    "Note: You can use the techniques we have learned so far or use f-strings. F-strings allow us to embed code inside strings. You can read more about f-strings here."
   ]
  },
  {
   "cell_type": "code",
   "execution_count": 24,
   "id": "221e0857",
   "metadata": {},
   "outputs": [
    {
     "name": "stdout",
     "output_type": "stream",
     "text": [
      "The area of the circle with radius: 4.5 is: 63.61725123519331\n"
     ]
    }
   ],
   "source": [
    "import math\n",
    "\n",
    "string1 = \"The area of the circle with radius:\"\n",
    "string2  = \"is:\"\n",
    "radius = 4.5\n",
    "\n",
    "#def area(x, pi = math.pi):\n",
    "    #area_of_circle = ((math.pi*x)**2\n",
    "    #result=string1+ \" \" + str(x)+\" \"+string2+\"\"+str    \n",
    "    \n",
    "    # This function takes a radius and returns the area of a circle. We also pass a default value for pi.\n",
    "    # Input: Float (and default value for pi)\n",
    "    # Output: Float\n",
    "    \n",
    "    # Sample input: 5.0\n",
    "    # Sample Output: 78.53981633\n",
    "    \n",
    "    # Your code here: \n",
    "\n",
    "def area(radius, pi = math.pi):\n",
    "    resultado = pi * (radius**2)\n",
    "    return resultado \n",
    "    \n",
    "# Your output string here:\n",
    "\n",
    "print(string1, radius ,string2, area (radius) )"
   ]
  },
  {
   "cell_type": "markdown",
   "id": "241b1d7a",
   "metadata": {},
   "source": [
    "Challenge 2 - Splitting Strings\n",
    "We have first looked at combining strings into one long string. There are times where we need to do the opposite and split the string into smaller components for further analysis.\n",
    "\n",
    "In the cell below, split the string into a list of strings using the space delimiter. Count the frequency of each word in the string in a dictionary. Strip the periods, line breaks and commas from the text. Make sure to remove empty strings from your dictionary."
   ]
  },
  {
   "cell_type": "code",
   "execution_count": 26,
   "id": "9078b31f",
   "metadata": {},
   "outputs": [
    {
     "name": "stdout",
     "output_type": "stream",
     "text": [
      "{'also': 1, 'and': 1, 'if': 1, 'desire': 1, 'know': 1, 'fire': 1, 'who': 1, 'ice': 1, 'hold': 1, 'but': 1, 'tasted': 1, 'those': 1, 'twice': 1, 'the': 1, 'in': 1, 'from': 1, 'with': 1, 'suffice': 1, 'is': 1, 'think': 1, 'great': 1, 'end': 1, 'hate': 1, 'that': 1, 'world': 1, 'say': 1, 'i’ve': 1, 'to': 1, 'will': 1, 'favor': 1, 'perish': 1, 'for': 1, 'i': 1, 'enough': 1, 'would': 1, 'had': 1, 'what': 1, 'destruction': 1, 'it': 1, 'of': 1, 'some': 1}\n"
     ]
    }
   ],
   "source": [
    "poem = \"\"\"Some say the world will end in fire,\n",
    "Some say in ice.\n",
    "From what I’ve tasted of desire\n",
    "I hold with those who favor fire.\n",
    "But if it had to perish twice,\n",
    "I think I know enough of hate\n",
    "To say that for destruction ice\n",
    "Is also great\n",
    "And would suffice.\"\"\"\n",
    "\n",
    "# Your code here:\n",
    "poema = poem.replace('\\n',' ')\n",
    "poema1 = poema.replace('.','')\n",
    "poema2 = poema1.lower()\n",
    "poema3 = poema2.replace(',','')\n",
    "key = (poema3.split(' '))\n",
    "word_freq = {key: key.count(key) for key in set(key) }\n",
    "print(word_freq)"
   ]
  },
  {
   "cell_type": "markdown",
   "id": "d3bfcac7",
   "metadata": {},
   "source": [
    "In the cell below, find all the words that appear in the text and do not appear in the blacklist. You must parse the string but can choose any data structure you wish for the words that do not appear in the blacklist. Remove all non letter characters and convert all words to lower case."
   ]
  },
  {
   "cell_type": "code",
   "execution_count": 30,
   "id": "fc31e6f1",
   "metadata": {},
   "outputs": [
    {
     "data": {
      "text/plain": [
       "['some',\n",
       " 'say',\n",
       " 'world',\n",
       " 'will',\n",
       " 'end',\n",
       " 'fire',\n",
       " 'some',\n",
       " 'say',\n",
       " 'ice',\n",
       " 'from',\n",
       " 'what',\n",
       " 'i’ve',\n",
       " 'tasted',\n",
       " 'of',\n",
       " 'desire',\n",
       " 'i',\n",
       " 'hold',\n",
       " 'with',\n",
       " 'those',\n",
       " 'who',\n",
       " 'favor',\n",
       " 'fire',\n",
       " 'but',\n",
       " 'if',\n",
       " 'had',\n",
       " 'to',\n",
       " 'perish',\n",
       " 'twice',\n",
       " 'i',\n",
       " 'think',\n",
       " 'i',\n",
       " 'know',\n",
       " 'enough',\n",
       " 'of',\n",
       " 'hate',\n",
       " 'to',\n",
       " 'say',\n",
       " 'that',\n",
       " 'for',\n",
       " 'destruction',\n",
       " 'ice',\n",
       " 'is',\n",
       " 'also',\n",
       " 'great',\n",
       " 'would',\n",
       " 'suffice']"
      ]
     },
     "execution_count": 30,
     "metadata": {},
     "output_type": "execute_result"
    }
   ],
   "source": [
    "blacklist = ['and', 'as', 'an', 'a', 'the', 'in', 'it']\n",
    "\n",
    "poem = \"\"\"I was angry with my friend; \n",
    "I told my wrath, my wrath did end.\n",
    "I was angry with my foe: \n",
    "I told it not, my wrath did grow. \n",
    "\n",
    "And I waterd it in fears,\n",
    "Night & morning with my tears: \n",
    "And I sunned it with smiles,\n",
    "And with soft deceitful wiles. \n",
    "\n",
    "And it grew both day and night. \n",
    "Till it bore an apple bright. \n",
    "And my foe beheld it shine,\n",
    "And he knew that it was mine. \n",
    "\n",
    "And into my garden stole, \n",
    "When the night had veild the pole; \n",
    "In the morning glad I see; \n",
    "My foe outstretched beneath the tree.\"\"\"\n",
    "\n",
    "# Your code here:\n",
    "import re \n",
    "blacklist = ['and', 'as', 'an', 'a', 'the', 'in', 'it']\n",
    "poema = poem.replace('\\n',' ')\n",
    "poema1 = poema.replace('.','')\n",
    "poema2 = poema1.lower()\n",
    "poema3 = poema2.replace(',','')\n",
    "poema4= poema3.replace(';','')\n",
    "poema_lista= (poema3.split(' '))\n",
    "\n",
    "lista_prueba =[i for i in key  if i not in blacklist ]\n",
    "\n",
    "lista_prueba\n",
    "        "
   ]
  },
  {
   "cell_type": "code",
   "execution_count": null,
   "id": "67faf8cb",
   "metadata": {},
   "outputs": [],
   "source": []
  },
  {
   "cell_type": "markdown",
   "id": "0a5df207",
   "metadata": {},
   "source": [
    "Challenge 3 - Regular Expressions\n",
    "Sometimes, we would like to perform more complex manipulations of our string. This is where regular expressions come in handy. In the cell below, return all characters that are upper case from the string specified below."
   ]
  },
  {
   "cell_type": "code",
   "execution_count": 32,
   "id": "ae50e7f9",
   "metadata": {},
   "outputs": [
    {
     "name": "stdout",
     "output_type": "stream",
     "text": [
      "['T', 'P']\n"
     ]
    }
   ],
   "source": [
    "poem = \"\"\"The apparition of these faces in the crowd;\n",
    "Petals on a wet, black bough.\"\"\"\n",
    "\n",
    "# Your code here:\n",
    "\n",
    "print(re.findall('[A-Z]', poem))"
   ]
  },
  {
   "cell_type": "markdown",
   "id": "8af1e02c",
   "metadata": {},
   "source": [
    "In the cell below, filter the list provided and return all elements of the list containing a number. To filter the list, use the re.search function. Check if the function does not return None. You can read more about the re.search function here."
   ]
  },
  {
   "cell_type": "code",
   "execution_count": 34,
   "id": "a2d5a60c",
   "metadata": {},
   "outputs": [
    {
     "name": "stdout",
     "output_type": "stream",
     "text": [
      "['123abc', 'abc123', 'JohnSmith1', 'ABBY4']\n"
     ]
    }
   ],
   "source": [
    "data = ['123abc', 'abc123', 'JohnSmith1', 'ABBY4', 'JANE']\n",
    "\n",
    "# Your code here:\n",
    "\n",
    "import re \n",
    "data = ['123abc', 'abc123', 'JohnSmith1', 'ABBY4', 'JANE']   \n",
    "salida = [i for i in data if(re.search(\"\\d\", i) is not None)]\n",
    "print(salida)"
   ]
  },
  {
   "cell_type": "markdown",
   "id": "a738603f",
   "metadata": {},
   "source": [
    "Bonus Challenge - Regular Expressions II\n",
    "In the cell below, filter the list provided to keep only strings containing at least one digit and at least one lower case letter. As in the previous question, use the re.search function and check that the result is not None.\n",
    "\n",
    "To read more about regular expressions, check out this link."
   ]
  },
  {
   "cell_type": "code",
   "execution_count": 36,
   "id": "ec133f1c",
   "metadata": {},
   "outputs": [
    {
     "name": "stdout",
     "output_type": "stream",
     "text": [
      "['123abc', 'abc123', 'JohnSmith1', 'ABBY4']\n"
     ]
    }
   ],
   "source": [
    "data = ['123abc', 'abc123', 'JohnSmith1', 'ABBY4', 'JANE']\n",
    "# Your code here:\n",
    "\n",
    "import re \n",
    "\n",
    "data = ['123abc', 'abc123', 'JohnSmith1', 'ABBY4', 'JANE']   \n",
    "salida = [i for i in data if re.search(\"\\d\", i) if(re.search(\"\\w\", i) is not None)]\n",
    "print(salida)"
   ]
  },
  {
   "cell_type": "code",
   "execution_count": null,
   "id": "3812977a",
   "metadata": {},
   "outputs": [],
   "source": []
  }
 ],
 "metadata": {
  "kernelspec": {
   "display_name": "Python 3 (ipykernel)",
   "language": "python",
   "name": "python3"
  },
  "language_info": {
   "codemirror_mode": {
    "name": "ipython",
    "version": 3
   },
   "file_extension": ".py",
   "mimetype": "text/x-python",
   "name": "python",
   "nbconvert_exporter": "python",
   "pygments_lexer": "ipython3",
   "version": "3.9.12"
  }
 },
 "nbformat": 4,
 "nbformat_minor": 5
}
