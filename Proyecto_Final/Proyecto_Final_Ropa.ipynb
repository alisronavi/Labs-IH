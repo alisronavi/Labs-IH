{
 "cells": [
  {
   "cell_type": "code",
   "execution_count": 7,
   "id": "ec59404c",
   "metadata": {},
   "outputs": [],
   "source": [
    "#Librerias\n",
    "\n",
    "import pandas as pd\n",
    "import numpy as np\n",
    "import seaborn as sns\n",
    "import matplotlib.pyplot as plt \n",
    "%matplotlib inline"
   ]
  },
  {
   "cell_type": "code",
   "execution_count": 2,
   "id": "c1605685",
   "metadata": {},
   "outputs": [
    {
     "data": {
      "text/html": [
       "<div>\n",
       "<style scoped>\n",
       "    .dataframe tbody tr th:only-of-type {\n",
       "        vertical-align: middle;\n",
       "    }\n",
       "\n",
       "    .dataframe tbody tr th {\n",
       "        vertical-align: top;\n",
       "    }\n",
       "\n",
       "    .dataframe thead th {\n",
       "        text-align: right;\n",
       "    }\n",
       "</style>\n",
       "<table border=\"1\" class=\"dataframe\">\n",
       "  <thead>\n",
       "    <tr style=\"text-align: right;\">\n",
       "      <th></th>\n",
       "      <th>ProductID</th>\n",
       "      <th>ProductName</th>\n",
       "      <th>ProductBrand</th>\n",
       "      <th>Gender</th>\n",
       "      <th>Price (INR)</th>\n",
       "      <th>NumImages</th>\n",
       "      <th>Description</th>\n",
       "      <th>PrimaryColor</th>\n",
       "    </tr>\n",
       "  </thead>\n",
       "  <tbody>\n",
       "    <tr>\n",
       "      <th>0</th>\n",
       "      <td>10017413</td>\n",
       "      <td>DKNY Unisex Black &amp; Grey Printed Medium Trolle...</td>\n",
       "      <td>DKNY</td>\n",
       "      <td>Unisex</td>\n",
       "      <td>11745</td>\n",
       "      <td>7</td>\n",
       "      <td>Black and grey printed medium trolley bag, sec...</td>\n",
       "      <td>Black</td>\n",
       "    </tr>\n",
       "    <tr>\n",
       "      <th>1</th>\n",
       "      <td>10016283</td>\n",
       "      <td>EthnoVogue Women Beige &amp; Grey Made to Measure ...</td>\n",
       "      <td>EthnoVogue</td>\n",
       "      <td>Women</td>\n",
       "      <td>5810</td>\n",
       "      <td>7</td>\n",
       "      <td>Beige &amp; Grey made to measure kurta with churid...</td>\n",
       "      <td>Beige</td>\n",
       "    </tr>\n",
       "    <tr>\n",
       "      <th>2</th>\n",
       "      <td>10009781</td>\n",
       "      <td>SPYKAR Women Pink Alexa Super Skinny Fit High-...</td>\n",
       "      <td>SPYKAR</td>\n",
       "      <td>Women</td>\n",
       "      <td>899</td>\n",
       "      <td>7</td>\n",
       "      <td>Pink coloured wash 5-pocket high-rise cropped ...</td>\n",
       "      <td>Pink</td>\n",
       "    </tr>\n",
       "    <tr>\n",
       "      <th>3</th>\n",
       "      <td>10015921</td>\n",
       "      <td>Raymond Men Blue Self-Design Single-Breasted B...</td>\n",
       "      <td>Raymond</td>\n",
       "      <td>Men</td>\n",
       "      <td>5599</td>\n",
       "      <td>5</td>\n",
       "      <td>Blue self-design bandhgala suitBlue self-desig...</td>\n",
       "      <td>Blue</td>\n",
       "    </tr>\n",
       "    <tr>\n",
       "      <th>4</th>\n",
       "      <td>10017833</td>\n",
       "      <td>Parx Men Brown &amp; Off-White Slim Fit Printed Ca...</td>\n",
       "      <td>Parx</td>\n",
       "      <td>Men</td>\n",
       "      <td>759</td>\n",
       "      <td>5</td>\n",
       "      <td>Brown and off-white printed casual shirt, has ...</td>\n",
       "      <td>White</td>\n",
       "    </tr>\n",
       "    <tr>\n",
       "      <th>...</th>\n",
       "      <td>...</td>\n",
       "      <td>...</td>\n",
       "      <td>...</td>\n",
       "      <td>...</td>\n",
       "      <td>...</td>\n",
       "      <td>...</td>\n",
       "      <td>...</td>\n",
       "      <td>...</td>\n",
       "    </tr>\n",
       "    <tr>\n",
       "      <th>12486</th>\n",
       "      <td>10262843</td>\n",
       "      <td>Pepe Jeans Men Black Hammock Slim Fit Low-Rise...</td>\n",
       "      <td>Pepe Jeans</td>\n",
       "      <td>Men</td>\n",
       "      <td>1299</td>\n",
       "      <td>7</td>\n",
       "      <td>Black dark wash 5-pocket low-rise jeans, clean...</td>\n",
       "      <td>Black</td>\n",
       "    </tr>\n",
       "    <tr>\n",
       "      <th>12487</th>\n",
       "      <td>10261721</td>\n",
       "      <td>Mochi Women Gold-Toned Solid Heels</td>\n",
       "      <td>Mochi</td>\n",
       "      <td>Women</td>\n",
       "      <td>1990</td>\n",
       "      <td>5</td>\n",
       "      <td>A pair of gold-toned open toe heels, has regul...</td>\n",
       "      <td>Gold</td>\n",
       "    </tr>\n",
       "    <tr>\n",
       "      <th>12488</th>\n",
       "      <td>10261607</td>\n",
       "      <td>612 league Girls Navy Blue &amp; White Printed Reg...</td>\n",
       "      <td>612 league</td>\n",
       "      <td>Girls</td>\n",
       "      <td>602</td>\n",
       "      <td>4</td>\n",
       "      <td>Navy Blue and White printed mid-rise denim sho...</td>\n",
       "      <td>Blue</td>\n",
       "    </tr>\n",
       "    <tr>\n",
       "      <th>12489</th>\n",
       "      <td>10266621</td>\n",
       "      <td>Bvlgari Men Aqva Pour Homme Marine Eau de Toil...</td>\n",
       "      <td>Bvlgari</td>\n",
       "      <td>Men</td>\n",
       "      <td>8950</td>\n",
       "      <td>2</td>\n",
       "      <td>Bvlgari Men Aqva Pour Homme Marine Eau de Toil...</td>\n",
       "      <td>NaN</td>\n",
       "    </tr>\n",
       "    <tr>\n",
       "      <th>12490</th>\n",
       "      <td>10265199</td>\n",
       "      <td>Pepe Jeans Men Black &amp; Grey Striped Polo Colla...</td>\n",
       "      <td>Pepe Jeans</td>\n",
       "      <td>Men</td>\n",
       "      <td>799</td>\n",
       "      <td>5</td>\n",
       "      <td>Black and grey striped T-shirt, has a polo col...</td>\n",
       "      <td>Black</td>\n",
       "    </tr>\n",
       "  </tbody>\n",
       "</table>\n",
       "<p>12491 rows × 8 columns</p>\n",
       "</div>"
      ],
      "text/plain": [
       "       ProductID                                        ProductName  \\\n",
       "0       10017413  DKNY Unisex Black & Grey Printed Medium Trolle...   \n",
       "1       10016283  EthnoVogue Women Beige & Grey Made to Measure ...   \n",
       "2       10009781  SPYKAR Women Pink Alexa Super Skinny Fit High-...   \n",
       "3       10015921  Raymond Men Blue Self-Design Single-Breasted B...   \n",
       "4       10017833  Parx Men Brown & Off-White Slim Fit Printed Ca...   \n",
       "...          ...                                                ...   \n",
       "12486   10262843  Pepe Jeans Men Black Hammock Slim Fit Low-Rise...   \n",
       "12487   10261721                 Mochi Women Gold-Toned Solid Heels   \n",
       "12488   10261607  612 league Girls Navy Blue & White Printed Reg...   \n",
       "12489   10266621  Bvlgari Men Aqva Pour Homme Marine Eau de Toil...   \n",
       "12490   10265199  Pepe Jeans Men Black & Grey Striped Polo Colla...   \n",
       "\n",
       "      ProductBrand  Gender  Price (INR)  NumImages  \\\n",
       "0             DKNY  Unisex        11745          7   \n",
       "1       EthnoVogue   Women         5810          7   \n",
       "2           SPYKAR   Women          899          7   \n",
       "3          Raymond     Men         5599          5   \n",
       "4             Parx     Men          759          5   \n",
       "...            ...     ...          ...        ...   \n",
       "12486   Pepe Jeans     Men         1299          7   \n",
       "12487        Mochi   Women         1990          5   \n",
       "12488   612 league   Girls          602          4   \n",
       "12489      Bvlgari     Men         8950          2   \n",
       "12490   Pepe Jeans     Men          799          5   \n",
       "\n",
       "                                             Description PrimaryColor  \n",
       "0      Black and grey printed medium trolley bag, sec...        Black  \n",
       "1      Beige & Grey made to measure kurta with churid...        Beige  \n",
       "2      Pink coloured wash 5-pocket high-rise cropped ...         Pink  \n",
       "3      Blue self-design bandhgala suitBlue self-desig...         Blue  \n",
       "4      Brown and off-white printed casual shirt, has ...        White  \n",
       "...                                                  ...          ...  \n",
       "12486  Black dark wash 5-pocket low-rise jeans, clean...        Black  \n",
       "12487  A pair of gold-toned open toe heels, has regul...         Gold  \n",
       "12488  Navy Blue and White printed mid-rise denim sho...         Blue  \n",
       "12489  Bvlgari Men Aqva Pour Homme Marine Eau de Toil...          NaN  \n",
       "12490  Black and grey striped T-shirt, has a polo col...        Black  \n",
       "\n",
       "[12491 rows x 8 columns]"
      ]
     },
     "execution_count": 2,
     "metadata": {},
     "output_type": "execute_result"
    }
   ],
   "source": [
    "#Primero identificamos la informacion que nos brinda la tabla con la que estamos trabajando\n",
    "\n",
    "ropa = pd.read_csv(\"Ropa.csv\")\n",
    "ropa"
   ]
  },
  {
   "cell_type": "code",
   "execution_count": 3,
   "id": "435048e1",
   "metadata": {},
   "outputs": [
    {
     "data": {
      "text/html": [
       "<div>\n",
       "<style scoped>\n",
       "    .dataframe tbody tr th:only-of-type {\n",
       "        vertical-align: middle;\n",
       "    }\n",
       "\n",
       "    .dataframe tbody tr th {\n",
       "        vertical-align: top;\n",
       "    }\n",
       "\n",
       "    .dataframe thead th {\n",
       "        text-align: right;\n",
       "    }\n",
       "</style>\n",
       "<table border=\"1\" class=\"dataframe\">\n",
       "  <thead>\n",
       "    <tr style=\"text-align: right;\">\n",
       "      <th></th>\n",
       "      <th>ProductBrand</th>\n",
       "      <th>Gender</th>\n",
       "      <th>Price (INR)</th>\n",
       "      <th>PrimaryColor</th>\n",
       "    </tr>\n",
       "  </thead>\n",
       "  <tbody>\n",
       "    <tr>\n",
       "      <th>0</th>\n",
       "      <td>DKNY</td>\n",
       "      <td>Unisex</td>\n",
       "      <td>11745</td>\n",
       "      <td>Black</td>\n",
       "    </tr>\n",
       "    <tr>\n",
       "      <th>1</th>\n",
       "      <td>EthnoVogue</td>\n",
       "      <td>Women</td>\n",
       "      <td>5810</td>\n",
       "      <td>Beige</td>\n",
       "    </tr>\n",
       "    <tr>\n",
       "      <th>2</th>\n",
       "      <td>SPYKAR</td>\n",
       "      <td>Women</td>\n",
       "      <td>899</td>\n",
       "      <td>Pink</td>\n",
       "    </tr>\n",
       "    <tr>\n",
       "      <th>3</th>\n",
       "      <td>Raymond</td>\n",
       "      <td>Men</td>\n",
       "      <td>5599</td>\n",
       "      <td>Blue</td>\n",
       "    </tr>\n",
       "    <tr>\n",
       "      <th>4</th>\n",
       "      <td>Parx</td>\n",
       "      <td>Men</td>\n",
       "      <td>759</td>\n",
       "      <td>White</td>\n",
       "    </tr>\n",
       "    <tr>\n",
       "      <th>...</th>\n",
       "      <td>...</td>\n",
       "      <td>...</td>\n",
       "      <td>...</td>\n",
       "      <td>...</td>\n",
       "    </tr>\n",
       "    <tr>\n",
       "      <th>12485</th>\n",
       "      <td>Laceandme</td>\n",
       "      <td>Women</td>\n",
       "      <td>569</td>\n",
       "      <td>Red</td>\n",
       "    </tr>\n",
       "    <tr>\n",
       "      <th>12486</th>\n",
       "      <td>Pepe Jeans</td>\n",
       "      <td>Men</td>\n",
       "      <td>1299</td>\n",
       "      <td>Black</td>\n",
       "    </tr>\n",
       "    <tr>\n",
       "      <th>12487</th>\n",
       "      <td>Mochi</td>\n",
       "      <td>Women</td>\n",
       "      <td>1990</td>\n",
       "      <td>Gold</td>\n",
       "    </tr>\n",
       "    <tr>\n",
       "      <th>12488</th>\n",
       "      <td>612 league</td>\n",
       "      <td>Girls</td>\n",
       "      <td>602</td>\n",
       "      <td>Blue</td>\n",
       "    </tr>\n",
       "    <tr>\n",
       "      <th>12490</th>\n",
       "      <td>Pepe Jeans</td>\n",
       "      <td>Men</td>\n",
       "      <td>799</td>\n",
       "      <td>Black</td>\n",
       "    </tr>\n",
       "  </tbody>\n",
       "</table>\n",
       "<p>11597 rows × 4 columns</p>\n",
       "</div>"
      ],
      "text/plain": [
       "      ProductBrand  Gender  Price (INR) PrimaryColor\n",
       "0             DKNY  Unisex        11745        Black\n",
       "1       EthnoVogue   Women         5810        Beige\n",
       "2           SPYKAR   Women          899         Pink\n",
       "3          Raymond     Men         5599         Blue\n",
       "4             Parx     Men          759        White\n",
       "...            ...     ...          ...          ...\n",
       "12485    Laceandme   Women          569          Red\n",
       "12486   Pepe Jeans     Men         1299        Black\n",
       "12487        Mochi   Women         1990         Gold\n",
       "12488   612 league   Girls          602         Blue\n",
       "12490   Pepe Jeans     Men          799        Black\n",
       "\n",
       "[11597 rows x 4 columns]"
      ]
     },
     "execution_count": 3,
     "metadata": {},
     "output_type": "execute_result"
    }
   ],
   "source": [
    "ropa.drop(labels= ['ProductID','ProductName', 'NumImages', 'Description'] ,axis=1, inplace=True)\n",
    "ropa.dropna(inplace=True)\n",
    "ropa\n",
    "# Las columnas seleccionadas es informacion en strings que no nos sirve a menos que sea discriminada y segmentada. \n",
    "# En la descripcion hay datos como \"ProductBrand\" y \"PrimaryColor\" que ya tenemos como variables\n",
    "# La variable NumImages se desconoce en funcion a lo que ofrece"
   ]
  },
  {
   "cell_type": "code",
   "execution_count": 29,
   "id": "68635231",
   "metadata": {},
   "outputs": [
    {
     "data": {
      "text/html": [
       "<div>\n",
       "<style scoped>\n",
       "    .dataframe tbody tr th:only-of-type {\n",
       "        vertical-align: middle;\n",
       "    }\n",
       "\n",
       "    .dataframe tbody tr th {\n",
       "        vertical-align: top;\n",
       "    }\n",
       "\n",
       "    .dataframe thead th {\n",
       "        text-align: right;\n",
       "    }\n",
       "</style>\n",
       "<table border=\"1\" class=\"dataframe\">\n",
       "  <thead>\n",
       "    <tr style=\"text-align: right;\">\n",
       "      <th></th>\n",
       "      <th>Brand</th>\n",
       "      <th>Gender</th>\n",
       "      <th>Price</th>\n",
       "      <th>Color</th>\n",
       "    </tr>\n",
       "  </thead>\n",
       "  <tbody>\n",
       "    <tr>\n",
       "      <th>0</th>\n",
       "      <td>DKNY</td>\n",
       "      <td>Unisex</td>\n",
       "      <td>11745</td>\n",
       "      <td>Black</td>\n",
       "    </tr>\n",
       "    <tr>\n",
       "      <th>1</th>\n",
       "      <td>EthnoVogue</td>\n",
       "      <td>Women</td>\n",
       "      <td>5810</td>\n",
       "      <td>Beige</td>\n",
       "    </tr>\n",
       "    <tr>\n",
       "      <th>2</th>\n",
       "      <td>SPYKAR</td>\n",
       "      <td>Women</td>\n",
       "      <td>899</td>\n",
       "      <td>Pink</td>\n",
       "    </tr>\n",
       "    <tr>\n",
       "      <th>3</th>\n",
       "      <td>Raymond</td>\n",
       "      <td>Men</td>\n",
       "      <td>5599</td>\n",
       "      <td>Blue</td>\n",
       "    </tr>\n",
       "    <tr>\n",
       "      <th>4</th>\n",
       "      <td>Parx</td>\n",
       "      <td>Men</td>\n",
       "      <td>759</td>\n",
       "      <td>White</td>\n",
       "    </tr>\n",
       "    <tr>\n",
       "      <th>...</th>\n",
       "      <td>...</td>\n",
       "      <td>...</td>\n",
       "      <td>...</td>\n",
       "      <td>...</td>\n",
       "    </tr>\n",
       "    <tr>\n",
       "      <th>12485</th>\n",
       "      <td>Laceandme</td>\n",
       "      <td>Women</td>\n",
       "      <td>569</td>\n",
       "      <td>Red</td>\n",
       "    </tr>\n",
       "    <tr>\n",
       "      <th>12486</th>\n",
       "      <td>Pepe Jeans</td>\n",
       "      <td>Men</td>\n",
       "      <td>1299</td>\n",
       "      <td>Black</td>\n",
       "    </tr>\n",
       "    <tr>\n",
       "      <th>12487</th>\n",
       "      <td>Mochi</td>\n",
       "      <td>Women</td>\n",
       "      <td>1990</td>\n",
       "      <td>Gold</td>\n",
       "    </tr>\n",
       "    <tr>\n",
       "      <th>12488</th>\n",
       "      <td>612 league</td>\n",
       "      <td>Girls</td>\n",
       "      <td>602</td>\n",
       "      <td>Blue</td>\n",
       "    </tr>\n",
       "    <tr>\n",
       "      <th>12490</th>\n",
       "      <td>Pepe Jeans</td>\n",
       "      <td>Men</td>\n",
       "      <td>799</td>\n",
       "      <td>Black</td>\n",
       "    </tr>\n",
       "  </tbody>\n",
       "</table>\n",
       "<p>11597 rows × 4 columns</p>\n",
       "</div>"
      ],
      "text/plain": [
       "            Brand  Gender  Price   Color\n",
       "0            DKNY  Unisex  11745   Black\n",
       "1      EthnoVogue   Women   5810   Beige\n",
       "2          SPYKAR   Women    899    Pink\n",
       "3         Raymond     Men   5599    Blue\n",
       "4            Parx     Men    759   White\n",
       "...           ...     ...    ...     ...\n",
       "12485   Laceandme   Women    569     Red\n",
       "12486  Pepe Jeans     Men   1299   Black\n",
       "12487       Mochi   Women   1990    Gold\n",
       "12488  612 league   Girls    602    Blue\n",
       "12490  Pepe Jeans     Men    799   Black\n",
       "\n",
       "[11597 rows x 4 columns]"
      ]
     },
     "execution_count": 29,
     "metadata": {},
     "output_type": "execute_result"
    }
   ],
   "source": [
    "ropa = ropa.rename(columns={'Price (INR)':'Price', 'ProductBrand':'Brand', 'PrimaryColor':'Color'  })\n",
    "ropa"
   ]
  },
  {
   "cell_type": "code",
   "execution_count": 30,
   "id": "1b9b8c33",
   "metadata": {},
   "outputs": [
    {
     "name": "stdout",
     "output_type": "stream",
     "text": [
      "<class 'pandas.core.frame.DataFrame'>\n",
      "Int64Index: 11597 entries, 0 to 12490\n",
      "Data columns (total 4 columns):\n",
      " #   Column  Non-Null Count  Dtype \n",
      "---  ------  --------------  ----- \n",
      " 0   Brand   11597 non-null  object\n",
      " 1   Gender  11597 non-null  object\n",
      " 2   Price   11597 non-null  int64 \n",
      " 3   Color   11597 non-null  object\n",
      "dtypes: int64(1), object(3)\n",
      "memory usage: 453.0+ KB\n"
     ]
    },
    {
     "data": {
      "text/plain": [
       "Brand     object\n",
       "Gender    object\n",
       "Price      int64\n",
       "Color     object\n",
       "dtype: object"
      ]
     },
     "execution_count": 30,
     "metadata": {},
     "output_type": "execute_result"
    }
   ],
   "source": [
    "# Ahora queremos conocer que tipo de información tenemos y su posible maniuplación\n",
    "\n",
    "ropa.info()\n",
    "ropa.dtypes"
   ]
  },
  {
   "cell_type": "code",
   "execution_count": 31,
   "id": "87570b1c",
   "metadata": {},
   "outputs": [
    {
     "data": {
      "text/plain": [
       "Brand     0.0\n",
       "Gender    0.0\n",
       "Price     0.0\n",
       "Color     0.0\n",
       "dtype: float64"
      ]
     },
     "execution_count": 31,
     "metadata": {},
     "output_type": "execute_result"
    }
   ],
   "source": [
    "#Identifique algunos valores con NAN al principio, para tener la información completa, rectifico Missing Values\n",
    "\n",
    "ropa.isna().sum()/ropa.shape[0]"
   ]
  },
  {
   "cell_type": "code",
   "execution_count": 33,
   "id": "84e4b848",
   "metadata": {},
   "outputs": [
    {
     "data": {
      "text/plain": [
       "array(['DKNY', 'EthnoVogue', 'SPYKAR', 'Raymond', 'Parx', 'SHOWOFF',\n",
       "       'Kenneth Cole', 'Vishudh', 'Being Human', 'Homesake',\n",
       "       'SEJ by Nisha Gupta', 'YAK YAK', 'PARFAIT', 'HIGHLANDER',\n",
       "       'JEWEL JUNCTION', 'ID', 'Story@home', 'Gini and Jony', 'Sera',\n",
       "       'AccessHer', 'Alcis', 'Difference of Opinion', 'Michael Kors',\n",
       "       'Tokyo Talkies', 'her by invictus', 'Soie', 'Lara Karen',\n",
       "       'Urban Dog', 'ahilya', 'VASTRAMAY', 'Campus Sutra', 'FIDO DIDO',\n",
       "       'MIAH Decor', 'BuckleUp', 'Peter England', 'AIGNER', 'Park Avenue',\n",
       "       'Roadster', 'U.S. Polo Assn. Denim Co.', 'Sweet Dreams', 'Kazo',\n",
       "       'Stylo Bug', 'Lady Lyka', 'GAS', 'WITH', 'ZUSH', 'JBN Creation',\n",
       "       'U.S. Polo Assn. Kids', 'DressBerry', 'Bvlgari', 'ColorPlus',\n",
       "       'Lakme', 'Allen Solly Woman', 'Palm Tree', 'Arrow', 'MANGO',\n",
       "       'Carrera', 'ROMEE', 'TAYHAA', 'Ishin', 'Shoe Couture',\n",
       "       'HARBORNBAY', 'Keds', 'Aj DEZInES', 'Monte Carlo', 'even', 'ether',\n",
       "       'Crimsoune Club', 'Russell Athletic', 'MIMOSA', 'Puma',\n",
       "       'Blackberrys', 'Playdate', 'Rocia', 'Marvel by Wear Your Mind',\n",
       "       'Annabelle by Pantaloons', 'berrytree', 'SIMON CARTER LONDON',\n",
       "       'Beli', 'Jn Joy', 'THE SILHOUETTE STORE', 'Xpose', 'MBE',\n",
       "       'Mast & Harbour', 'JC Collection', 'NEUDIS', 'StyleStone',\n",
       "       'SASSAFRAS', 'United Colors of Benetton', 'VLCC',\n",
       "       'Kook N Keech Disney', 'Bubblegummers', 'Hoopers',\n",
       "       'Peter England Casuals', 'Honey by Pantaloons', 'Pink Cow',\n",
       "       'DAVID BECKHAM', 'DOROTHY PERKINS', 'Crew STREET', 'Bhama Couture',\n",
       "       'Zippo', 'Daffodils', 'C9 AIRWEAR', 'Oxolloxo', 'Soumya', 'Crocs',\n",
       "       'Carlton London', 'HERE&NOW', 'French Connection', 'Next Look',\n",
       "       'shaze', 'Bitiya by Bhama', 'Geox', 'Tulsattva', 'ExclusiveLane',\n",
       "       'MSC', 'Anekaant', 'XYXX', 'SHISEIDO', 'Innisfree', 'Wintage',\n",
       "       'LOCOMOTIVE', 'Bene Kleed', 'Varanga', 'Avira Home', 'Force 10',\n",
       "       'maxima', 'Aapno Rajasthan', 'Fortune', 'Moedbuille', 'Blue Saint',\n",
       "       'MASPAR', 'W', 'SCORPIUS', 'Ecko Unltd', 'BERING',\n",
       "       'HRX by Hrithik Roshan', 'Healers', 'Kvsfab', 'MOVADO', 'CINOCCI',\n",
       "       'Mitera', 'Harvard', 'Ojjasvi', 'Gliders', 'U&F', 'Abhishti',\n",
       "       'Dreamscape', 'OddCroft', 'Flying Machine', 'IT luggage', 'Nike',\n",
       "       'One Friday', 'Indibelle', 'Dynamocks', 'Arrow New York', 'Titan',\n",
       "       'Zoop', 'Levis', 'IVOC', 'Athena', 'Arrow Sport', 'Red Tape',\n",
       "       'PANAHI', 'Veni Vidi Vici', 'CODE by Lifestyle',\n",
       "       'Fame Forever by Lifestyle', 'Sonata', 'Yuris', 'Sherrif Shoes',\n",
       "       'TIMESMITH', 'Cherry Crumble', 'Senorita', 'CHUTPUT',\n",
       "       'Slumber Jill', 'Metro', 'Marks & Spencer', 'Fastrack',\n",
       "       'DODO & MOA', 'FabSeasons', 'Shaily', 'Mirchi Fashion',\n",
       "       'Sergio Tacchini', 'Janasya', 'Bossini', 'Elizabeth Arden',\n",
       "       'Rajnandini', 'Call It Spring', 'Coolers', 'Chhabra 555',\n",
       "       'LA LOFT', 'Cottinfab', 'Calvin Klein', 'Liberty', 'IMYOUNG',\n",
       "       'CLAY CRAFT', 'Crunchy Fashion', 'Respiro', 'trueBrowns',\n",
       "       'Trend Arrest', 'Besiva', 'INCOLOR', 'Kraus Jeans',\n",
       "       'RICHARD PARKER by Pantaloons', 'Mali Fionna', 'Kryptic',\n",
       "       'San Frissco', 'The Kaftan Company', 'Infuzze', 'Simply',\n",
       "       'Sir Corbett', 'HOME DECOR INDIA', 'Vero Moda', 'Be Indi',\n",
       "       'Da Intimo', 'Camey', 'Solemio', 'MsFQ', 'Forever New', 'Killer',\n",
       "       'AURELIA', 'Miss Chase', 'Saadgi', 'Lee Cooper', 'Foolzy', 'ZHEIA',\n",
       "       'Friskers', 'UCLA', 'Genie', 'Femmora', 'Fos Lighting',\n",
       "       'FirstClap', 'Clovia', 'Style Quotient', 'SG YUVRAJ',\n",
       "       'URBAN TRIBE', 'CASIO', 'VRINDA', 'Lady Stark', 'Newton',\n",
       "       'Alvaro Castagnino', 'Campus', 'Free Authority', 'Dennmarks',\n",
       "       'Voylla', 'Wish Karo', 'MBOSS', 'Mochi', 'ELLE', 'OBSESSIONS',\n",
       "       'Living Essence', 'GIORDANO', 'Hi RELs', 'DDecor', 'INVICTUS',\n",
       "       'Evoke 1899', 'Newport', 'Louis Philippe', 'Rajasthan Decor',\n",
       "       'PANIT', 'SELECTED', 'SOJANYA', 'Sangria', 'Divine Casa',\n",
       "       'Unravel India', 'Steenbok', 'Belle Fille', 'Kittens', 'Slub',\n",
       "       'Blissta', 'Alena', 'SWHF', 'JUMP USA', 'FabAlley', 'Nucleus',\n",
       "       'Home Sparkle', 'shiloh', 'Allen Solly', 'KLEIO', 'Maniac',\n",
       "       'Globus', 'Fourwalls', 'AKKRITI BY PANTALOONS', 'Genius',\n",
       "       'EQUINOX', 'Zink London', 'YASH GALLERY', 'Sparx', 'Van Heusen',\n",
       "       'YK', 'Blue Giraffe', 'Silvermerc Designs', 'Black coffee',\n",
       "       'Jacques Lemans', 'ZIYAA', 'SKULT by Shahid Kapoor', 'PERFKT-U',\n",
       "       'Zeal', 'Cortina', 'plusS', 'V Dot', 'Shoetopia', 'Eavan',\n",
       "       'Masch Sports', 'Bohemia Crystal', 'Devis', 'ONLY', 'Eske',\n",
       "       'Namyaa', 'MIWAY', 'Smiley World', 'Maserati', 'Archies',\n",
       "       'Marie Claire', 'Chumbak', 'Aber & Q', 'People', 'GMF', 'ABELINO',\n",
       "       'COVER STORY', 'Schwarzkopf PROFESSIONAL', 'Karmic Vision',\n",
       "       'Deco Window', 'Bodycare', 'ADIVA', 'Latin Quarters',\n",
       "       'Moda Rapido', 'Indian Terrain', 'RARE', 'SOLES', 'Lavie',\n",
       "       'Truffle Collection', 'KARATCART', 'Priyaasi', 'Mine4Nine',\n",
       "       'CHROME & CORAL', 'FAUSTO', 'ADORN by Nikita Ladiwala', 'Hancock',\n",
       "       'Calvin Klein Jeans', 'HEATWAVE', 'GAP', 'Qraa Men', 'BownBee',\n",
       "       'Baggit', 'Force NXT', 'URBANE', 'Canary London', 'Jack & Jones',\n",
       "       'fancy mart', 'ADORENITE', 'Hypernation', 'Pantaloons Junior',\n",
       "       'Minions by Kook N Keech', 'Caprese', 'SUITLTD', 'Harpa', 'Taavi',\n",
       "       'Geroo Jaipur', 'Bonjour', 'Bamboo Tree Jewels', 'Kappa',\n",
       "       'Sher Singh', 'Morpheme Remedies', 'KiddoPanti', 'ANTS',\n",
       "       'Allen Cooper', 'Pure Home and Living', 'ComicSense.xyz',\n",
       "       'Louis Philippe Sport', 'Monrow', 'breya',\n",
       "       'RANGMANCH BY PANTALOONS', 'Wonder Woman', 'Melange by Lifestyle',\n",
       "       'CERIZ', 'Eego Italy', 'mf', 'Chemistry', 'TREEMODA', 'Chambor',\n",
       "       'OOMPH', 'KazarMax', 'Chkokko', 'Duke', 'Club York',\n",
       "       'Jewels Galaxy', 'Molly & Michel', 'Libas', 'Pipa Bella', 'FOSH',\n",
       "       'Freehand', 'Ed Hardy', 'Aditi Wasan', 'Akiva', 'Franco Leone',\n",
       "       'Mufti', '7Rainbow', 'Knotyy', 'beevee', 'Yellow Jeans', 'Soludos',\n",
       "       'Tresmode', 'bigbanana', 'Rex Straut Jeans', 'hummel', 'E2O',\n",
       "       'CAVALLO by Linen Club', 'Tommy Hilfiger', 'PRESTO', 'Tistabene',\n",
       "       'boAt', 'DENNISON', 'U.S. Polo Assn.', \"Kurti's by Menka\",\n",
       "       'Saree mall', 'Forca by Lifestyle', 'VALIOSAA',\n",
       "       'Ginger by Lifestyle', 'Iti', 'Stylee LIFESTYLE', 'JAINISH',\n",
       "       'Cation', 'WROGN', 'GODS', 'Disney by Wear Your Mind',\n",
       "       'Calvin Klein Underwear', 'Woodland', 'INDYA', 'meriggiare',\n",
       "       'BIANCA', 'Kook N Keech Marvel', 'Just Wow', 'Golden Peacock',\n",
       "       'Rosaline', 'Wildcraft', 'Rubans', 'Zaveri Pearls', 'CUTECUMBER',\n",
       "       'HAMMER', 'PrettyCat', 'Johnny Bravo by Kook N Keech', 'Zivame',\n",
       "       'Kook N Keech Garfield', 'Tissu', 'Turkish Bath', 'Nature Casuals',\n",
       "       'YWC', 'Kraft Cellar', 'Saral Home', 'justpeachy', 'GERUA',\n",
       "       'Studio Voylla', 'Bruno Manetti', 'GIO COLLECTION', 'Invincible',\n",
       "       'Global Desi', 'yelloe', 'American Crew', 'Blisscovered',\n",
       "       'Alina decor', 'MANOHARI', 'Aujjessa', 't-base', 'NBA',\n",
       "       'RUF & TUF', 'SPRAY GROUND', 'Skechers', 'UNKNOWN by Ayesha',\n",
       "       'WILD WEST', 'Pure Play', 'PUMA Motorsport', '20Dresses', 'Enamor',\n",
       "       'Aerosoles', 'Garmin', 'Street Style Store', 'Alom', 'pinwheel',\n",
       "       'Lotto', 'IZOD', 'Ruosh', 'Aarika', 'Reebok Classic', 'FEVER',\n",
       "       'Madame', '612 league', 'Tossido', 'WISSTLER', 'AHIKA', 'Jompers',\n",
       "       'Yuuki', 'Ahalyaa', 'Van Heusen Woman', 'Blacksmith', 'fungus',\n",
       "       'Naari', 'Z-ZOOM', 'Van Heusen Sport', 'Lady Love', 'NIZA',\n",
       "       'Saint G', 'HIROLAS', 'The Pink Moon', 'MISH', 'Vozaf',\n",
       "       'Louis Philippe Jeans', 'Indo Era', 'CALFNERO',\n",
       "       'The House of Tara', 'Kids Ville', 'The Chennai Silks', 'Superdry',\n",
       "       'Fox', 'Anouk', 'OFF LIMITS', 'Frozen', 'FS Mini Klub', 'De Moza',\n",
       "       'VarEesha', 'Zelocity', 'Peanuts', 'Denizen From Levis',\n",
       "       'Ferraiolo', 'Yaadleen', 'Peter England Elite', 'SEIKO',\n",
       "       'TALES & STORIES', 'Daily Life Forever52', 'The Vanca', 'AND',\n",
       "       'The Indian Garage Co', 'Voyage', 'Reebok', 'SCOUP', 'GNIST',\n",
       "       'Biba', 'RAISIN', 'AASK', 'FABNEST', 'Signature Sole', 'Batman',\n",
       "       'STAR WARS', 'FUGAZEE', 'GUESS', 'ADIDAS Originals',\n",
       "       'Fusion Beats', 'bodha', 'Peora', 'Amante', 'naughty ninos',\n",
       "       'Rajesh Silk Mills', 'ADIDAS', 'Allen Solly Sport',\n",
       "       'Krafted with Happiness', 'Golden Girl', 'RUGSMITH', 'SKAGEN',\n",
       "       'Masculino Latino', 'Lychee bags', 'Ira Soleil', 'CORSICA',\n",
       "       'Instacrush', 'SCUDERIA FERRARI', 'Superman', 'DailyObjects',\n",
       "       'The Dry State', 'Orange and Orchid', 'CAPTAIN AMERICA',\n",
       "       'Teakwood Leathers', 'Inc 5', 'EK DO DHAI', 'Natilene', 'OBOW',\n",
       "       'Basics', 'ESBEDA', 'TAG EYE', 'Proline Active', 'FableStreet',\n",
       "       'amraoo', 'Varkala Silk Sarees', 'LilPicks', 'Purple Feather',\n",
       "       'FURO by Red Chief', 'WESTCLO', 'FOREVER 21',\n",
       "       'Barbie by Many Frocks &', 'Khushal K', 'Rangoli Jaipur',\n",
       "       'I AM FOR YOU', 'Soulflower', 'Allen Solly Junior', 'Hubberholme',\n",
       "       'Braun', 'BOLLYGLOW', 'Lacoste', 'DUGRISTYLE', 'FILA',\n",
       "       'Vastraa Fusion', 'Renka', 'U.S. Polo Assn. Women', 'Antheaa',\n",
       "       'Tikhi Imli', 'Wear Your Mind', 'HUNTER 1114', 'Moon Dust',\n",
       "       'Philips', 'AWW HUNNIE', 'Purple State', 'Kidling', 'Twisha',\n",
       "       'Genius18', 'Pepe Jeans', 'Lapis O Lupo', 'SHINGORA',\n",
       "       'Lino Perros', 'Revlon', 'MomToBe', 'DEYANN', 'Nauti Nati',\n",
       "       'FLAVIDO', 'QUIERO', 'Inddus', 'Laceandme', 'Maybelline',\n",
       "       'STREET 9', 'Rain & Rainbow', 'Campana', 'ToniQ', 'OSHKOSH Bgosh',\n",
       "       'Qurvii', 'Wild stone', 'Plum', 'BUKKUM', 'KID1', 'Hidesign',\n",
       "       'Wrangler', 'Ives', 'Noble Faith', 'PURYS',\n",
       "       'BEAT LONDON by PEPE JEANS', 'House of Pataudi', 'INVU', 'CAT',\n",
       "       'Chopard', 'Sonari', 'ESPRIT', 'PRITA', 'Satrani', '109F',\n",
       "       'SWISS MILITARY', 'Stupid Cupid'], dtype=object)"
      ]
     },
     "execution_count": 33,
     "metadata": {},
     "output_type": "execute_result"
    }
   ],
   "source": [
    "# Al identificar que mi información esta completa, ahora la debo sintetizar y para ello debo identificar todas las\n",
    "# variables con las que cuenta cada columna de las cuales me interesa \"ProductBrand y PrimaryColor\"\n",
    "ropa['Brand'].unique()"
   ]
  },
  {
   "cell_type": "code",
   "execution_count": 35,
   "id": "94ad2e18",
   "metadata": {},
   "outputs": [
    {
     "data": {
      "text/plain": [
       "Brand\n",
       "Indian Terrain    968\n",
       "Puma              342\n",
       "Pepe Jeans        337\n",
       "AURELIA           304\n",
       "Flying Machine    299\n",
       "                 ... \n",
       "PERFKT-U            1\n",
       "PRITA               1\n",
       "PURYS               1\n",
       "Peanuts             1\n",
       "yelloe              1\n",
       "Length: 652, dtype: int64"
      ]
     },
     "execution_count": 35,
     "metadata": {},
     "output_type": "execute_result"
    }
   ],
   "source": [
    "ropa.value_counts('Brand')"
   ]
  },
  {
   "cell_type": "code",
   "execution_count": 59,
   "id": "d3f2c7c5",
   "metadata": {},
   "outputs": [
    {
     "data": {
      "text/plain": [
       "Brand      True\n",
       "Gender    False\n",
       "Price     False\n",
       "Color     False\n",
       "Name: Brand, dtype: bool"
      ]
     },
     "execution_count": 59,
     "metadata": {},
     "output_type": "execute_result"
    }
   ],
   "source": [
    "ropa_max_corr = np.abs(ropa_corr.corr()['Brand'])>0.5\n",
    "ropa_max_corr"
   ]
  },
  {
   "cell_type": "code",
   "execution_count": 60,
   "id": "55d5ab98",
   "metadata": {},
   "outputs": [
    {
     "data": {
      "text/plain": [
       "Index(['Brand'], dtype='object')"
      ]
     },
     "execution_count": 60,
     "metadata": {},
     "output_type": "execute_result"
    }
   ],
   "source": [
    "ropa_max_corr2 = ropa_corr.select_dtypes(include = 'number').columns[ropa_max_corr]\n",
    "ropa_max_corr2"
   ]
  },
  {
   "cell_type": "code",
   "execution_count": 36,
   "id": "7d060474",
   "metadata": {},
   "outputs": [
    {
     "data": {
      "text/plain": [
       "array([' Black', ' Beige', ' Pink', 'Blue', ' White', ' Brown',\n",
       "       ' Burgundy', ' Red', ' Green', ' Maroon', ' Navy', ' Gold',\n",
       "       ' Yellow', ' Grey', ' Platinum', ' Silver', ' Khaki', ' Mustard',\n",
       "       ' Lavender', ' Matte', ' Rose', ' Charcoal', ' Purple', ' Orange',\n",
       "       ' Peach', ' Magenta', ' Bronze'], dtype=object)"
      ]
     },
     "execution_count": 36,
     "metadata": {},
     "output_type": "execute_result"
    }
   ],
   "source": [
    "ropa['Color'].unique()"
   ]
  },
  {
   "cell_type": "code",
   "execution_count": null,
   "id": "2e88873b",
   "metadata": {},
   "outputs": [],
   "source": [
    "# Es mucho mas rica en contenido \"ProductBrand\" por lo que no quiero descartar información y prefiero verla en otro\n",
    "# tipo de visualizador"
   ]
  },
  {
   "cell_type": "code",
   "execution_count": 39,
   "id": "9b8ed7d6",
   "metadata": {},
   "outputs": [
    {
     "data": {
      "image/png": "[encoded data removed]",
      "text/plain": [
       "<Figure size 432x288 with 1 Axes>"
      ]
     },
     "metadata": {
      "needs_background": "light"
     },
     "output_type": "display_data"
    }
   ],
   "source": [
    "# Sin embargo, tengo valores numericos que puedo rescatar de la columna de \"Price\" y con un BoxPlot puedo comprobar la\n",
    "# información que tengo en la función .describe\n",
    "\n",
    "ropa.describe()\n",
    "ropa_boxplot = plt.figure()\n",
    "plt.boxplot(ropa['Price'])\n",
    "plt.show()"
   ]
  },
  {
   "cell_type": "code",
   "execution_count": 40,
   "id": "43356ad9",
   "metadata": {},
   "outputs": [
    {
     "data": {
      "text/plain": [
       "(array([1.1368e+04, 1.7200e+02, 2.9000e+01, 1.4000e+01, 8.0000e+00,\n",
       "        2.0000e+00, 0.0000e+00, 0.0000e+00, 1.0000e+00, 3.0000e+00]),\n",
       " array([  153. ,  6446.7, 12740.4, 19034.1, 25327.8, 31621.5, 37915.2,\n",
       "        44208.9, 50502.6, 56796.3, 63090. ]),\n",
       " <BarContainer object of 10 artists>)"
      ]
     },
     "execution_count": 40,
     "metadata": {},
     "output_type": "execute_result"
    },
    {
     "data": {
      "image/png": "[encoded data removed]",
      "text/plain": [
       "<Figure size 432x288 with 1 Axes>"
      ]
     },
     "metadata": {
      "needs_background": "light"
     },
     "output_type": "display_data"
    }
   ],
   "source": [
    "plt.hist(ropa['Price'])"
   ]
  },
  {
   "cell_type": "code",
   "execution_count": 52,
   "id": "2e10f851",
   "metadata": {},
   "outputs": [
    {
     "data": {
      "text/html": [
       "<div>\n",
       "<style scoped>\n",
       "    .dataframe tbody tr th:only-of-type {\n",
       "        vertical-align: middle;\n",
       "    }\n",
       "\n",
       "    .dataframe tbody tr th {\n",
       "        vertical-align: top;\n",
       "    }\n",
       "\n",
       "    .dataframe thead th {\n",
       "        text-align: right;\n",
       "    }\n",
       "</style>\n",
       "<table border=\"1\" class=\"dataframe\">\n",
       "  <thead>\n",
       "    <tr style=\"text-align: right;\">\n",
       "      <th></th>\n",
       "      <th>Brand</th>\n",
       "      <th>Gender</th>\n",
       "      <th>Price</th>\n",
       "      <th>Color</th>\n",
       "    </tr>\n",
       "  </thead>\n",
       "  <tbody>\n",
       "    <tr>\n",
       "      <th>Brand</th>\n",
       "      <td>1.000000</td>\n",
       "      <td>0.059440</td>\n",
       "      <td>0.189642</td>\n",
       "      <td>0.012583</td>\n",
       "    </tr>\n",
       "    <tr>\n",
       "      <th>Gender</th>\n",
       "      <td>0.059440</td>\n",
       "      <td>1.000000</td>\n",
       "      <td>-0.176731</td>\n",
       "      <td>-0.039450</td>\n",
       "    </tr>\n",
       "    <tr>\n",
       "      <th>Price</th>\n",
       "      <td>0.189642</td>\n",
       "      <td>-0.176731</td>\n",
       "      <td>1.000000</td>\n",
       "      <td>0.042126</td>\n",
       "    </tr>\n",
       "    <tr>\n",
       "      <th>Color</th>\n",
       "      <td>0.012583</td>\n",
       "      <td>-0.039450</td>\n",
       "      <td>0.042126</td>\n",
       "      <td>1.000000</td>\n",
       "    </tr>\n",
       "  </tbody>\n",
       "</table>\n",
       "</div>"
      ],
      "text/plain": [
       "           Brand    Gender     Price     Color\n",
       "Brand   1.000000  0.059440  0.189642  0.012583\n",
       "Gender  0.059440  1.000000 -0.176731 -0.039450\n",
       "Price   0.189642 -0.176731  1.000000  0.042126\n",
       "Color   0.012583 -0.039450  0.042126  1.000000"
      ]
     },
     "execution_count": 52,
     "metadata": {},
     "output_type": "execute_result"
    }
   ],
   "source": [
    "ropa_corr = ropa.apply(lambda x : pd.factorize(x)[0]).corr(method='pearson', min_periods=1)\n",
    "ropa_corr"
   ]
  },
  {
   "cell_type": "code",
   "execution_count": 53,
   "id": "8c899f5b",
   "metadata": {},
   "outputs": [
    {
     "data": {
      "text/plain": [
       "<AxesSubplot:>"
      ]
     },
     "execution_count": 53,
     "metadata": {},
     "output_type": "execute_result"
    },
    {
     "data": {
      "image/png": "[encoded data removed]",
      "text/plain": [
       "<Figure size 432x288 with 2 Axes>"
      ]
     },
     "metadata": {
      "needs_background": "light"
     },
     "output_type": "display_data"
    }
   ],
   "source": [
    "sns.heatmap(ropa_corr.corr())"
   ]
  },
  {
   "cell_type": "code",
   "execution_count": 45,
   "id": "029877be",
   "metadata": {},
   "outputs": [],
   "source": [
    "ropa.to_csv(r'//Users/alanromero/IH/Proyectos/Proyecto_Final/ropa_limpia.csv')"
   ]
  }
 ],
 "metadata": {
  "kernelspec": {
   "display_name": "Python 3 (ipykernel)",
   "language": "python",
   "name": "python3"
  },
  "language_info": {
   "codemirror_mode": {
    "name": "ipython",
    "version": 3
   },
   "file_extension": ".py",
   "mimetype": "text/x-python",
   "name": "python",
   "nbconvert_exporter": "python",
   "pygments_lexer": "ipython3",
   "version": "3.9.12"
  }
 },
 "nbformat": 4,
 "nbformat_minor": 5
}
